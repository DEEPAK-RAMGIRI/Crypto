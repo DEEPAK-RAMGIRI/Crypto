{
  "nbformat": 4,
  "nbformat_minor": 0,
  "metadata": {
    "colab": {
      "provenance": [],
      "authorship_tag": "ABX9TyPCWuvbyJezzMKUSxclzOsQ",
      "include_colab_link": true
    },
    "kernelspec": {
      "name": "python3",
      "display_name": "Python 3"
    },
    "language_info": {
      "name": "python"
    }
  },
  "cells": [
    {
      "cell_type": "markdown",
      "metadata": {
        "id": "view-in-github",
        "colab_type": "text"
      },
      "source": [
        "<a href=\"https://colab.research.google.com/github/DEEPAK-RAMGIRI/Crypto/blob/main/crypto_lab_06.ipynb\" target=\"_parent\"><img src=\"https://colab.research.google.com/assets/colab-badge.svg\" alt=\"Open In Colab\"/></a>"
      ]
    },
    {
      "cell_type": "code",
      "execution_count": 1,
      "metadata": {
        "colab": {
          "base_uri": "https://localhost:8080/"
        },
        "id": "5V7o-fFrkpmA",
        "outputId": "debd1a9a-07f9-470e-b9e7-b4adb9a8456b"
      },
      "outputs": [
        {
          "output_type": "stream",
          "name": "stdout",
          "text": [
            "Encrypted: CFSUPMVNMTBZ\n"
          ]
        }
      ],
      "source": [
        "def prepare_text(text):\n",
        "    # Remove spaces and convert to uppercase\n",
        "    text = text.upper().replace(\" \", \"\").replace(\"J\", \"I\")\n",
        "    prepared = \"\"\n",
        "    i = 0\n",
        "    while i < len(text):\n",
        "        a = text[i]\n",
        "        b = text[i+1] if i+1 < len(text) else 'X'\n",
        "        if a == b:\n",
        "            prepared += a + 'X'\n",
        "            i += 1\n",
        "        else:\n",
        "            prepared += a + b\n",
        "            i += 2\n",
        "    if len(prepared) % 2 != 0:\n",
        "        prepared += 'X'\n",
        "    return prepared\n",
        "\n",
        "def generate_key_matrix(key):\n",
        "    key = key.upper().replace(\" \", \"\").replace(\"J\", \"I\")\n",
        "    matrix = []\n",
        "    for c in key:\n",
        "        if c not in matrix:\n",
        "            matrix.append(c)\n",
        "    for c in \"ABCDEFGHIKLMNOPQRSTUVWXYZ\":\n",
        "        if c not in matrix:\n",
        "            matrix.append(c)\n",
        "    return [matrix[i*5:(i+1)*5] for i in range(5)]\n",
        "\n",
        "def find_position(matrix, letter):\n",
        "    for i in range(5):\n",
        "        for j in range(5):\n",
        "            if matrix[i][j] == letter:\n",
        "                return i, j\n",
        "\n",
        "def encrypt_pair(matrix, a, b):\n",
        "    row1, col1 = find_position(matrix, a)\n",
        "    row2, col2 = find_position(matrix, b)\n",
        "\n",
        "    if row1 == row2:\n",
        "        return matrix[row1][(col1+1)%5] + matrix[row2][(col2+1)%5]\n",
        "    elif col1 == col2:\n",
        "        return matrix[(row1+1)%5][col1] + matrix[(row2+1)%5][col2]\n",
        "    else:\n",
        "        return matrix[row1][col2] + matrix[row2][col1]\n",
        "\n",
        "def encrypt_playfair(plaintext, key):\n",
        "    text = prepare_text(plaintext)\n",
        "    matrix = generate_key_matrix(key)\n",
        "    ciphertext = \"\"\n",
        "    for i in range(0, len(text), 2):\n",
        "        ciphertext += encrypt_pair(matrix, text[i], text[i+1])\n",
        "    return ciphertext\n",
        "\n",
        "# Example usage:\n",
        "plaintext = \"HELLO WORLD\"\n",
        "key = \"MONARCHY\"\n",
        "ciphertext = encrypt_playfair(plaintext, key)\n",
        "print(\"Encrypted:\", ciphertext)\n"
      ]
    }
  ]
}