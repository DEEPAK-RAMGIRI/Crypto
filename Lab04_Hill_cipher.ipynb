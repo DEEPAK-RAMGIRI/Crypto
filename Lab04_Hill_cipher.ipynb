{
  "nbformat": 4,
  "nbformat_minor": 0,
  "metadata": {
    "colab": {
      "provenance": []
    },
    "kernelspec": {
      "name": "python3",
      "display_name": "Python 3"
    },
    "language_info": {
      "name": "python"
    }
  },
  "cells": [
    {
      "cell_type": "code",
      "execution_count": 2,
      "metadata": {
        "colab": {
          "base_uri": "https://localhost:8080/"
        },
        "id": "A-wqq3f9alF_",
        "outputId": "27f9005f-e2a6-4131-fd74-452aa5c2e1f1"
      },
      "outputs": [
        {
          "output_type": "stream",
          "name": "stdout",
          "text": [
            "The Ciphertext: YOG\n"
          ]
        }
      ],
      "source": [
        "# Hill Cipher Encryption\n",
        "import numpy as np\n",
        "\n",
        "def get_key_matrix(key):\n",
        "    key_matrix = np.zeros((3, 3), dtype=int)\n",
        "    k = 0\n",
        "    for i in range(3):\n",
        "        for j in range(3):\n",
        "            key_matrix[i][j] = ord(key[k]) % 65\n",
        "            k += 1\n",
        "    return key_matrix\n",
        "\n",
        "def encrypt(message_vector, key_matrix):\n",
        "    cipher_matrix = np.zeros((3, 1), dtype=int)\n",
        "    for i in range(3):\n",
        "        for x in range(3):\n",
        "            cipher_matrix[i][0] += (key_matrix[i][x] * message_vector[x][0])\n",
        "        cipher_matrix[i][0] %= 26\n",
        "    return cipher_matrix\n",
        "\n",
        "def hill_cipher(message, key):\n",
        "    key_matrix = get_key_matrix(key)\n",
        "    message_vector = np.array([[ord(message[i]) % 65] for i in range(3)])\n",
        "\n",
        "    cipher_matrix = encrypt(message_vector, key_matrix)\n",
        "    ciphertext = \"\".join(chr(cipher_matrix[i][0] + 65) for i in range(3))\n",
        "\n",
        "    print(\"The Ciphertext:\", ciphertext)\n",
        "\n",
        "# Example Usage\n",
        "message = \"DOG\"\n",
        "key = \"YHGINUKER\"  # Key must be exactly 9 characters (3x3 matrix)\n",
        "hill_cipher(message, key)\n"
      ]
    },
    {
      "source": [
        "import numpy as np\n",
        "\n",
        "key_matrix = np.zeros((3, 3), dtype=int)\n",
        "cipher_matrix = np.zeros((3, 1), dtype=int)\n",
        "message_vector = np.zeros((3, 1), dtype=int)\n",
        "\n",
        "def get_key_matrix(key):\n",
        "    k = 0\n",
        "    for i in range(3):\n",
        "        for j in range(3):\n",
        "            key_matrix[i][j] = ord(key[k]) % 65\n",
        "            k += 1\n",
        "\n",
        "def mod_inverse_matrix(matrix, mod):\n",
        "    det = int(round(np.linalg.det(matrix)))  # Determinant\n",
        "\n",
        "    # Check if determinant is invertible\n",
        "    if np.gcd(det, mod) != 1:\n",
        "        raise ValueError(\"Key matrix is not invertible. Choose a different key.\")\n",
        "\n",
        "    det_inv = pow(det, -1, mod)  # Modular inverse of determinant\n",
        "    matrix_inv = np.round(det * np.linalg.inv(matrix)).astype(int) % mod\n",
        "    return (det_inv * matrix_inv) % mod\n",
        "\n",
        "def decrypt(ciphertext, key):\n",
        "    get_key_matrix(key)\n",
        "\n",
        "    # Convert ciphertext to numerical vector\n",
        "    for i in range(3):\n",
        "        cipher_matrix[i][0] = ord(ciphertext[i]) % 65\n",
        "\n",
        "    # Get modular inverse of key matrix\n",
        "    key_inv = mod_inverse_matrix(key_matrix, 26)\n",
        "\n",
        "    # Decryption: D(K, C) = (K-1 * C) mod 26\n",
        "    decrypted_matrix = np.dot(key_inv, cipher_matrix) % 26\n",
        "\n",
        "    # Convert numbers to characters\n",
        "    decrypted_text = [chr(int(decrypted_matrix[i][0]) + 65) for i in range(3)]\n",
        "\n",
        "    print(\"Decrypted Text:\", \"\".join(decrypted_text))\n",
        "\n",
        "# Example Usage\n",
        "ciphertext = \"LNS\"  # Replace with the actual ciphertext\n",
        "#key = \"YHGINUKER\"  # Same key used for encryption - This key is not invertible\n",
        "key = \"RRFVSVCCT\"  # Example of an invertible key\n",
        "\n",
        "try:\n",
        "    decrypt(ciphertext, key)\n",
        "except ValueError as e:\n",
        "    print(e)"
      ],
      "cell_type": "code",
      "metadata": {
        "colab": {
          "base_uri": "https://localhost:8080/"
        },
        "id": "1CCcOShDhPMX",
        "outputId": "8438db83-0789-41c8-8ea9-f24bce5fd223"
      },
      "execution_count": 6,
      "outputs": [
        {
          "output_type": "stream",
          "name": "stdout",
          "text": [
            "Decrypted Text: PAY\n"
          ]
        }
      ]
    },
    {
      "cell_type": "code",
      "source": [],
      "metadata": {
        "id": "JYv1H0kVgoA8"
      },
      "execution_count": null,
      "outputs": []
    }
  ]
}