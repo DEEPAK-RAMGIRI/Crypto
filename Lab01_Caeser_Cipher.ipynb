{
  "nbformat": 4,
  "nbformat_minor": 0,
  "metadata": {
    "colab": {
      "provenance": []
    },
    "kernelspec": {
      "name": "python3",
      "display_name": "Python 3"
    },
    "language_info": {
      "name": "python"
    }
  },
  "cells": [
    {
      "cell_type": "code",
      "execution_count": null,
      "metadata": {
        "colab": {
          "base_uri": "https://localhost:8080/"
        },
        "id": "cjjRjA8-GZCY",
        "outputId": "3a396105-1b85-4521-a7a9-3cae2e93e5f9"
      },
      "outputs": [
        {
          "output_type": "stream",
          "name": "stdout",
          "text": [
            "Enter plain text:abc\n",
            "Enter the shift or key:1\n",
            "Cipher text: bcd\n"
          ]
        }
      ],
      "source": [
        "# Caeser Cipher\n",
        "def plain_to_Cipher(string,shift):\n",
        "  cipher=\"\"\n",
        "  for ch in string:\n",
        "    if ch.isalpha():\n",
        "      if ch.isupper():\n",
        "        cipher+=chr(((ord(ch)-ord('A')+shift)%26)+ord('A'))\n",
        "      else:\n",
        "        cipher+=chr(((ord(ch)-ord('a')+shift)%26)+ord('a'))\n",
        "    else:\n",
        "      cipher+=ch\n",
        "  return cipher\n",
        "\n",
        "string=input(\"Enter plain text:\")\n",
        "shift=int(input(\"Enter the shift or key:\"))\n",
        "\n",
        "cipher_txt=plain_to_Cipher(string,shift)\n",
        "print(\"Cipher text:\",cipher_txt)\n"
      ]
    },
    {
      "cell_type": "code",
      "source": [
        "# Caeser Cipher\n",
        "def Cipher_to_plain(string,shift):\n",
        "  plain=\"\"\n",
        "  for ch in string:\n",
        "    if ch.isalpha():\n",
        "      if ch.isupper():\n",
        "        plain+=chr(((ord(ch)-ord('A')-shift)%26)+ord('A'))\n",
        "      else:\n",
        "        plain+=chr(((ord(ch)-ord('a')-shift)%26)+ord('a'))\n",
        "    else:\n",
        "      plain+=ch\n",
        "  return plain\n",
        "\n",
        "string=input(\"Enter cipher text:\")\n",
        "shift=int(input(\"Enter the shift or key:\"))\n",
        "\n",
        "plain_txt=Cipher_to_plain(string,shift)\n",
        "print(\"Cipher text:\",plain_txt)"
      ],
      "metadata": {
        "colab": {
          "base_uri": "https://localhost:8080/"
        },
        "id": "CAr_-u2JI8GO",
        "outputId": "4a7c2702-0c4e-4ae3-8b0b-1636cc9a3dc8"
      },
      "execution_count": null,
      "outputs": [
        {
          "output_type": "stream",
          "name": "stdout",
          "text": [
            "Enter cipher text:abc\n",
            "Enter the shift or key:1\n",
            "Cipher text: zab\n"
          ]
        }
      ]
    },
    {
      "cell_type": "code",
      "source": [
        "print(1%26)"
      ],
      "metadata": {
        "colab": {
          "base_uri": "https://localhost:8080/"
        },
        "id": "2Kr3CN73PN-I",
        "outputId": "0289dc42-bbed-4f74-efdf-0ed5a787023f"
      },
      "execution_count": null,
      "outputs": [
        {
          "output_type": "stream",
          "name": "stdout",
          "text": [
            "1\n"
          ]
        }
      ]
    },
    {
      "cell_type": "code",
      "source": [
        "print(-1%26)"
      ],
      "metadata": {
        "colab": {
          "base_uri": "https://localhost:8080/"
        },
        "id": "wAA8kwaQPVIz",
        "outputId": "a2e38eb5-4d2b-4dae-960d-8a74e9947003"
      },
      "execution_count": null,
      "outputs": [
        {
          "output_type": "stream",
          "name": "stdout",
          "text": [
            "25\n"
          ]
        }
      ]
    },
    {
      "cell_type": "code",
      "source": [],
      "metadata": {
        "id": "aPEu5hjQP9DI"
      },
      "execution_count": null,
      "outputs": []
    }
  ]
}